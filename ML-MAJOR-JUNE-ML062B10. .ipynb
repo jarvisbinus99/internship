{
 "cells": [
  {
   "cell_type": "code",
   "execution_count": 32,
   "metadata": {},
   "outputs": [],
   "source": [
    "import pandas as pd\n",
    "import numpy as np\n",
    "import matplotlib.pyplot as plt\n",
    "import seaborn as sns\n",
    "import re\n",
    "from sklearn.model_selection import train_test_split\n",
    "from sklearn.pipeline import Pipeline\n",
    "from sklearn.feature_extraction.text import TfidfVectorizer\n",
    "from sklearn.metrics import accuracy_score, confusion_matrix, classification_report\n",
    "%matplotlib inline"
   ]
  },
  {
   "cell_type": "markdown",
   "metadata": {},
   "source": [
    "# Uploading necessary files"
   ]
  },
  {
   "cell_type": "code",
   "execution_count": 33,
   "metadata": {},
   "outputs": [
    {
     "name": "stdout",
     "output_type": "stream",
     "text": [
      "<class 'pandas.core.frame.DataFrame'>\n",
      "RangeIndex: 20050 entries, 0 to 20049\n",
      "Data columns (total 16 columns):\n",
      " #   Column                 Non-Null Count  Dtype  \n",
      "---  ------                 --------------  -----  \n",
      " 0   _golden                20050 non-null  bool   \n",
      " 1   _unit_state            20050 non-null  object \n",
      " 2   _trusted_judgments     20050 non-null  int64  \n",
      " 3   gender                 19953 non-null  object \n",
      " 4   gender:confidence      20024 non-null  float64\n",
      " 5   profile_yn             20050 non-null  object \n",
      " 6   profile_yn:confidence  20050 non-null  float64\n",
      " 7   description            16306 non-null  object \n",
      " 8   fav_number             20050 non-null  int64  \n",
      " 9   gender_gold            50 non-null     object \n",
      " 10  link_color             20050 non-null  object \n",
      " 11  name                   20050 non-null  object \n",
      " 12  profile_yn_gold        50 non-null     object \n",
      " 13  retweet_count          20050 non-null  int64  \n",
      " 14  sidebar_color          20050 non-null  object \n",
      " 15  text                   20050 non-null  object \n",
      "dtypes: bool(1), float64(2), int64(3), object(10)\n",
      "memory usage: 2.3+ MB\n"
     ]
    }
   ],
   "source": [
    "data = pd.read_csv(r'C:\\Users\\KIIT\\Desktop\\junk\\desktop right\\subjects\\machine learning\\MACHINE LEARNING VERZEO\\ML-MAJOR-JUNE-ML062B10\\Information.csv', encoding='latin-1')\n",
    "df = data\n",
    "# Drop unnecessary columns/features\n",
    "data.drop (columns = ['_unit_id',\n",
    "                      '_last_judgment_at',\n",
    "                      'user_timezone',\n",
    "                      'tweet_coord',\n",
    "                      'tweet_count',\n",
    "                      'tweet_created', \n",
    "                      'tweet_id',\n",
    "                      'tweet_location',\n",
    "                      'profileimage',\n",
    "                      'created'], inplace = True)\n",
    "\n",
    "data.info()"
   ]
  },
  {
   "cell_type": "code",
   "execution_count": 34,
   "metadata": {},
   "outputs": [
    {
     "name": "stdout",
     "output_type": "stream",
     "text": [
      "<class 'pandas.core.frame.DataFrame'>\n",
      "RangeIndex: 20050 entries, 0 to 20049\n",
      "Data columns (total 16 columns):\n",
      " #   Column                 Non-Null Count  Dtype  \n",
      "---  ------                 --------------  -----  \n",
      " 0   _golden                20050 non-null  bool   \n",
      " 1   _unit_state            20050 non-null  object \n",
      " 2   _trusted_judgments     20050 non-null  int64  \n",
      " 3   gender                 19953 non-null  object \n",
      " 4   gender:confidence      20024 non-null  float64\n",
      " 5   profile_yn             20050 non-null  object \n",
      " 6   profile_yn:confidence  20050 non-null  float64\n",
      " 7   description            16306 non-null  object \n",
      " 8   fav_number             20050 non-null  int64  \n",
      " 9   gender_gold            50 non-null     object \n",
      " 10  link_color             20050 non-null  object \n",
      " 11  name                   20050 non-null  object \n",
      " 12  profile_yn_gold        50 non-null     object \n",
      " 13  retweet_count          20050 non-null  int64  \n",
      " 14  sidebar_color          20050 non-null  object \n",
      " 15  text                   20050 non-null  object \n",
      "dtypes: bool(1), float64(2), int64(3), object(10)\n",
      "memory usage: 2.3+ MB\n"
     ]
    }
   ],
   "source": [
    "df.info()"
   ]
  },
  {
   "cell_type": "code",
   "execution_count": 35,
   "metadata": {},
   "outputs": [
    {
     "data": {
      "text/html": [
       "<div>\n",
       "<style scoped>\n",
       "    .dataframe tbody tr th:only-of-type {\n",
       "        vertical-align: middle;\n",
       "    }\n",
       "\n",
       "    .dataframe tbody tr th {\n",
       "        vertical-align: top;\n",
       "    }\n",
       "\n",
       "    .dataframe thead th {\n",
       "        text-align: right;\n",
       "    }\n",
       "</style>\n",
       "<table border=\"1\" class=\"dataframe\">\n",
       "  <thead>\n",
       "    <tr style=\"text-align: right;\">\n",
       "      <th></th>\n",
       "      <th>_golden</th>\n",
       "      <th>_unit_state</th>\n",
       "      <th>_trusted_judgments</th>\n",
       "      <th>gender</th>\n",
       "      <th>gender:confidence</th>\n",
       "      <th>profile_yn</th>\n",
       "      <th>profile_yn:confidence</th>\n",
       "      <th>description</th>\n",
       "      <th>fav_number</th>\n",
       "      <th>gender_gold</th>\n",
       "      <th>link_color</th>\n",
       "      <th>name</th>\n",
       "      <th>profile_yn_gold</th>\n",
       "      <th>retweet_count</th>\n",
       "      <th>sidebar_color</th>\n",
       "      <th>text</th>\n",
       "    </tr>\n",
       "  </thead>\n",
       "  <tbody>\n",
       "    <tr>\n",
       "      <th>0</th>\n",
       "      <td>False</td>\n",
       "      <td>finalized</td>\n",
       "      <td>3</td>\n",
       "      <td>male</td>\n",
       "      <td>1.0000</td>\n",
       "      <td>yes</td>\n",
       "      <td>1.0</td>\n",
       "      <td>i sing my own rhythm.</td>\n",
       "      <td>0</td>\n",
       "      <td>NaN</td>\n",
       "      <td>08C2C2</td>\n",
       "      <td>sheezy0</td>\n",
       "      <td>NaN</td>\n",
       "      <td>0</td>\n",
       "      <td>FFFFFF</td>\n",
       "      <td>Robbie E Responds To Critics After Win Against...</td>\n",
       "    </tr>\n",
       "    <tr>\n",
       "      <th>1</th>\n",
       "      <td>False</td>\n",
       "      <td>finalized</td>\n",
       "      <td>3</td>\n",
       "      <td>male</td>\n",
       "      <td>1.0000</td>\n",
       "      <td>yes</td>\n",
       "      <td>1.0</td>\n",
       "      <td>I'm the author of novels filled with family dr...</td>\n",
       "      <td>68</td>\n",
       "      <td>NaN</td>\n",
       "      <td>0084B4</td>\n",
       "      <td>DavdBurnett</td>\n",
       "      <td>NaN</td>\n",
       "      <td>0</td>\n",
       "      <td>C0DEED</td>\n",
       "      <td>ÛÏIt felt like they were my friends and I was...</td>\n",
       "    </tr>\n",
       "    <tr>\n",
       "      <th>2</th>\n",
       "      <td>False</td>\n",
       "      <td>finalized</td>\n",
       "      <td>3</td>\n",
       "      <td>male</td>\n",
       "      <td>0.6625</td>\n",
       "      <td>yes</td>\n",
       "      <td>1.0</td>\n",
       "      <td>louis whining and squealing and all</td>\n",
       "      <td>7696</td>\n",
       "      <td>NaN</td>\n",
       "      <td>ABB8C2</td>\n",
       "      <td>lwtprettylaugh</td>\n",
       "      <td>NaN</td>\n",
       "      <td>1</td>\n",
       "      <td>C0DEED</td>\n",
       "      <td>i absolutely adore when louis starts the songs...</td>\n",
       "    </tr>\n",
       "    <tr>\n",
       "      <th>3</th>\n",
       "      <td>False</td>\n",
       "      <td>finalized</td>\n",
       "      <td>3</td>\n",
       "      <td>male</td>\n",
       "      <td>1.0000</td>\n",
       "      <td>yes</td>\n",
       "      <td>1.0</td>\n",
       "      <td>Mobile guy.  49ers, Shazam, Google, Kleiner Pe...</td>\n",
       "      <td>202</td>\n",
       "      <td>NaN</td>\n",
       "      <td>0084B4</td>\n",
       "      <td>douggarland</td>\n",
       "      <td>NaN</td>\n",
       "      <td>0</td>\n",
       "      <td>C0DEED</td>\n",
       "      <td>Hi @JordanSpieth - Looking at the url - do you...</td>\n",
       "    </tr>\n",
       "    <tr>\n",
       "      <th>4</th>\n",
       "      <td>False</td>\n",
       "      <td>finalized</td>\n",
       "      <td>3</td>\n",
       "      <td>female</td>\n",
       "      <td>1.0000</td>\n",
       "      <td>yes</td>\n",
       "      <td>1.0</td>\n",
       "      <td>Ricky Wilson The Best FRONTMAN/Kaiser Chiefs T...</td>\n",
       "      <td>37318</td>\n",
       "      <td>NaN</td>\n",
       "      <td>3B94D9</td>\n",
       "      <td>WilfordGemma</td>\n",
       "      <td>NaN</td>\n",
       "      <td>0</td>\n",
       "      <td>0</td>\n",
       "      <td>Watching Neighbours on Sky+ catching up with t...</td>\n",
       "    </tr>\n",
       "  </tbody>\n",
       "</table>\n",
       "</div>"
      ],
      "text/plain": [
       "   _golden _unit_state  _trusted_judgments  gender  gender:confidence  \\\n",
       "0    False   finalized                   3    male             1.0000   \n",
       "1    False   finalized                   3    male             1.0000   \n",
       "2    False   finalized                   3    male             0.6625   \n",
       "3    False   finalized                   3    male             1.0000   \n",
       "4    False   finalized                   3  female             1.0000   \n",
       "\n",
       "  profile_yn  profile_yn:confidence  \\\n",
       "0        yes                    1.0   \n",
       "1        yes                    1.0   \n",
       "2        yes                    1.0   \n",
       "3        yes                    1.0   \n",
       "4        yes                    1.0   \n",
       "\n",
       "                                         description  fav_number gender_gold  \\\n",
       "0                              i sing my own rhythm.           0         NaN   \n",
       "1  I'm the author of novels filled with family dr...          68         NaN   \n",
       "2                louis whining and squealing and all        7696         NaN   \n",
       "3  Mobile guy.  49ers, Shazam, Google, Kleiner Pe...         202         NaN   \n",
       "4  Ricky Wilson The Best FRONTMAN/Kaiser Chiefs T...       37318         NaN   \n",
       "\n",
       "  link_color            name profile_yn_gold  retweet_count sidebar_color  \\\n",
       "0     08C2C2         sheezy0             NaN              0        FFFFFF   \n",
       "1     0084B4     DavdBurnett             NaN              0        C0DEED   \n",
       "2     ABB8C2  lwtprettylaugh             NaN              1        C0DEED   \n",
       "3     0084B4     douggarland             NaN              0        C0DEED   \n",
       "4     3B94D9    WilfordGemma             NaN              0             0   \n",
       "\n",
       "                                                text  \n",
       "0  Robbie E Responds To Critics After Win Against...  \n",
       "1  ÛÏIt felt like they were my friends and I was...  \n",
       "2  i absolutely adore when louis starts the songs...  \n",
       "3  Hi @JordanSpieth - Looking at the url - do you...  \n",
       "4  Watching Neighbours on Sky+ catching up with t...  "
      ]
     },
     "execution_count": 35,
     "metadata": {},
     "output_type": "execute_result"
    }
   ],
   "source": [
    "data.head(5)"
   ]
  },
  {
   "cell_type": "code",
   "execution_count": 36,
   "metadata": {},
   "outputs": [],
   "source": [
    "def cleaning(s):\n",
    "    s = str(s)\n",
    "    s = s.lower()\n",
    "    s = re.sub('\\s\\W',' ',s)\n",
    "    s = re.sub('\\W,\\s',' ',s)\n",
    "    s = re.sub(r'[^\\w]', ' ', s)\n",
    "    s = re.sub(\"\\d+\", \"\", s)\n",
    "    s = re.sub('\\s+',' ',s)\n",
    "    s = re.sub('[!@#$_]', '', s)\n",
    "    s = s.replace(\"co\",\"\")\n",
    "    s = s.replace(\"https\",\"\")\n",
    "    s = s.replace(\",\",\"\")\n",
    "    s = s.replace(\"[\\w*\",\" \")\n",
    "    return s\n",
    "\n",
    "df['Tweets'] = [cleaning(s) for s in df['text']]\n",
    "df['Description'] = [cleaning(s) for s in df['description']]\n",
    "\n",
    "from nltk.corpus import stopwords\n",
    "stop = set(stopwords.words('english'))\n",
    "df['Tweets'] = df['Tweets'].str.lower().str.split()\n",
    "df['Tweets'] = df['Tweets'].apply(lambda x : [item for item in x if item not in stop])"
   ]
  },
  {
   "cell_type": "code",
   "execution_count": 37,
   "metadata": {},
   "outputs": [
    {
     "data": {
      "text/html": [
       "<div>\n",
       "<style scoped>\n",
       "    .dataframe tbody tr th:only-of-type {\n",
       "        vertical-align: middle;\n",
       "    }\n",
       "\n",
       "    .dataframe tbody tr th {\n",
       "        vertical-align: top;\n",
       "    }\n",
       "\n",
       "    .dataframe thead th {\n",
       "        text-align: right;\n",
       "    }\n",
       "</style>\n",
       "<table border=\"1\" class=\"dataframe\">\n",
       "  <thead>\n",
       "    <tr style=\"text-align: right;\">\n",
       "      <th></th>\n",
       "      <th>_golden</th>\n",
       "      <th>_unit_state</th>\n",
       "      <th>_trusted_judgments</th>\n",
       "      <th>gender</th>\n",
       "      <th>gender:confidence</th>\n",
       "      <th>profile_yn</th>\n",
       "      <th>profile_yn:confidence</th>\n",
       "      <th>description</th>\n",
       "      <th>fav_number</th>\n",
       "      <th>gender_gold</th>\n",
       "      <th>link_color</th>\n",
       "      <th>name</th>\n",
       "      <th>profile_yn_gold</th>\n",
       "      <th>retweet_count</th>\n",
       "      <th>sidebar_color</th>\n",
       "      <th>text</th>\n",
       "      <th>Tweets</th>\n",
       "      <th>Description</th>\n",
       "    </tr>\n",
       "  </thead>\n",
       "  <tbody>\n",
       "    <tr>\n",
       "      <th>0</th>\n",
       "      <td>False</td>\n",
       "      <td>finalized</td>\n",
       "      <td>3</td>\n",
       "      <td>male</td>\n",
       "      <td>1.0000</td>\n",
       "      <td>yes</td>\n",
       "      <td>1.0</td>\n",
       "      <td>i sing my own rhythm.</td>\n",
       "      <td>0</td>\n",
       "      <td>NaN</td>\n",
       "      <td>08C2C2</td>\n",
       "      <td>sheezy0</td>\n",
       "      <td>NaN</td>\n",
       "      <td>0</td>\n",
       "      <td>FFFFFF</td>\n",
       "      <td>Robbie E Responds To Critics After Win Against...</td>\n",
       "      <td>[robbie, e, responds, critics, win, eddie, edw...</td>\n",
       "      <td>i sing my own rhythm</td>\n",
       "    </tr>\n",
       "    <tr>\n",
       "      <th>1</th>\n",
       "      <td>False</td>\n",
       "      <td>finalized</td>\n",
       "      <td>3</td>\n",
       "      <td>male</td>\n",
       "      <td>1.0000</td>\n",
       "      <td>yes</td>\n",
       "      <td>1.0</td>\n",
       "      <td>I'm the author of novels filled with family dr...</td>\n",
       "      <td>68</td>\n",
       "      <td>NaN</td>\n",
       "      <td>0084B4</td>\n",
       "      <td>DavdBurnett</td>\n",
       "      <td>NaN</td>\n",
       "      <td>0</td>\n",
       "      <td>C0DEED</td>\n",
       "      <td>ÛÏIt felt like they were my friends and I was...</td>\n",
       "      <td>[ûïit, felt, like, friends, living, story, û, ...</td>\n",
       "      <td>i m the author of novels filled with family dr...</td>\n",
       "    </tr>\n",
       "    <tr>\n",
       "      <th>2</th>\n",
       "      <td>False</td>\n",
       "      <td>finalized</td>\n",
       "      <td>3</td>\n",
       "      <td>male</td>\n",
       "      <td>0.6625</td>\n",
       "      <td>yes</td>\n",
       "      <td>1.0</td>\n",
       "      <td>louis whining and squealing and all</td>\n",
       "      <td>7696</td>\n",
       "      <td>NaN</td>\n",
       "      <td>ABB8C2</td>\n",
       "      <td>lwtprettylaugh</td>\n",
       "      <td>NaN</td>\n",
       "      <td>1</td>\n",
       "      <td>C0DEED</td>\n",
       "      <td>i absolutely adore when louis starts the songs...</td>\n",
       "      <td>[absolutely, adore, louis, starts, songs, hits...</td>\n",
       "      <td>louis whining and squealing and all</td>\n",
       "    </tr>\n",
       "    <tr>\n",
       "      <th>3</th>\n",
       "      <td>False</td>\n",
       "      <td>finalized</td>\n",
       "      <td>3</td>\n",
       "      <td>male</td>\n",
       "      <td>1.0000</td>\n",
       "      <td>yes</td>\n",
       "      <td>1.0</td>\n",
       "      <td>Mobile guy.  49ers, Shazam, Google, Kleiner Pe...</td>\n",
       "      <td>202</td>\n",
       "      <td>NaN</td>\n",
       "      <td>0084B4</td>\n",
       "      <td>douggarland</td>\n",
       "      <td>NaN</td>\n",
       "      <td>0</td>\n",
       "      <td>C0DEED</td>\n",
       "      <td>Hi @JordanSpieth - Looking at the url - do you...</td>\n",
       "      <td>[hi, jordanspieth, looking, url, use, ifttt, t...</td>\n",
       "      <td>mobile guy ers shazam google kleiner perkins y...</td>\n",
       "    </tr>\n",
       "    <tr>\n",
       "      <th>4</th>\n",
       "      <td>False</td>\n",
       "      <td>finalized</td>\n",
       "      <td>3</td>\n",
       "      <td>female</td>\n",
       "      <td>1.0000</td>\n",
       "      <td>yes</td>\n",
       "      <td>1.0</td>\n",
       "      <td>Ricky Wilson The Best FRONTMAN/Kaiser Chiefs T...</td>\n",
       "      <td>37318</td>\n",
       "      <td>NaN</td>\n",
       "      <td>3B94D9</td>\n",
       "      <td>WilfordGemma</td>\n",
       "      <td>NaN</td>\n",
       "      <td>0</td>\n",
       "      <td>0</td>\n",
       "      <td>Watching Neighbours on Sky+ catching up with t...</td>\n",
       "      <td>[watching, neighbours, sky, catching, neighbs,...</td>\n",
       "      <td>ricky wilson the best frontman kaiser chiefs t...</td>\n",
       "    </tr>\n",
       "  </tbody>\n",
       "</table>\n",
       "</div>"
      ],
      "text/plain": [
       "   _golden _unit_state  _trusted_judgments  gender  gender:confidence  \\\n",
       "0    False   finalized                   3    male             1.0000   \n",
       "1    False   finalized                   3    male             1.0000   \n",
       "2    False   finalized                   3    male             0.6625   \n",
       "3    False   finalized                   3    male             1.0000   \n",
       "4    False   finalized                   3  female             1.0000   \n",
       "\n",
       "  profile_yn  profile_yn:confidence  \\\n",
       "0        yes                    1.0   \n",
       "1        yes                    1.0   \n",
       "2        yes                    1.0   \n",
       "3        yes                    1.0   \n",
       "4        yes                    1.0   \n",
       "\n",
       "                                         description  fav_number gender_gold  \\\n",
       "0                              i sing my own rhythm.           0         NaN   \n",
       "1  I'm the author of novels filled with family dr...          68         NaN   \n",
       "2                louis whining and squealing and all        7696         NaN   \n",
       "3  Mobile guy.  49ers, Shazam, Google, Kleiner Pe...         202         NaN   \n",
       "4  Ricky Wilson The Best FRONTMAN/Kaiser Chiefs T...       37318         NaN   \n",
       "\n",
       "  link_color            name profile_yn_gold  retweet_count sidebar_color  \\\n",
       "0     08C2C2         sheezy0             NaN              0        FFFFFF   \n",
       "1     0084B4     DavdBurnett             NaN              0        C0DEED   \n",
       "2     ABB8C2  lwtprettylaugh             NaN              1        C0DEED   \n",
       "3     0084B4     douggarland             NaN              0        C0DEED   \n",
       "4     3B94D9    WilfordGemma             NaN              0             0   \n",
       "\n",
       "                                                text  \\\n",
       "0  Robbie E Responds To Critics After Win Against...   \n",
       "1  ÛÏIt felt like they were my friends and I was...   \n",
       "2  i absolutely adore when louis starts the songs...   \n",
       "3  Hi @JordanSpieth - Looking at the url - do you...   \n",
       "4  Watching Neighbours on Sky+ catching up with t...   \n",
       "\n",
       "                                              Tweets  \\\n",
       "0  [robbie, e, responds, critics, win, eddie, edw...   \n",
       "1  [ûïit, felt, like, friends, living, story, û, ...   \n",
       "2  [absolutely, adore, louis, starts, songs, hits...   \n",
       "3  [hi, jordanspieth, looking, url, use, ifttt, t...   \n",
       "4  [watching, neighbours, sky, catching, neighbs,...   \n",
       "\n",
       "                                         Description  \n",
       "0                              i sing my own rhythm   \n",
       "1  i m the author of novels filled with family dr...  \n",
       "2                louis whining and squealing and all  \n",
       "3  mobile guy ers shazam google kleiner perkins y...  \n",
       "4  ricky wilson the best frontman kaiser chiefs t...  "
      ]
     },
     "execution_count": 37,
     "metadata": {},
     "output_type": "execute_result"
    }
   ],
   "source": [
    "df.head()"
   ]
  },
  {
   "cell_type": "code",
   "execution_count": 38,
   "metadata": {},
   "outputs": [
    {
     "data": {
      "text/plain": [
       "female     6700\n",
       "male       6194\n",
       "brand      5942\n",
       "unknown    1117\n",
       "Name: gender, dtype: int64"
      ]
     },
     "execution_count": 38,
     "metadata": {},
     "output_type": "execute_result"
    }
   ],
   "source": [
    "df.gender.value_counts()"
   ]
  },
  {
   "cell_type": "markdown",
   "metadata": {},
   "source": [
    "# Most common emotions"
   ]
  },
  {
   "cell_type": "code",
   "execution_count": 39,
   "metadata": {},
   "outputs": [],
   "source": [
    "Male = data[data['gender'] == 'male']\n",
    "Female = data[data['gender'] == 'female']\n",
    "Brand = data[data['gender'] == 'brand']\n",
    "Male_Words = pd.Series(' '.join(Male['Tweets'].astype(str)).lower().split(\" \")).value_counts()[:20]\n",
    "Female_Words = pd.Series(' '.join(Female['Tweets'].astype(str)).lower().split(\" \")).value_counts()[:20]\n",
    "Brand_words = pd.Series(' '.join(Brand['Tweets'].astype(str)).lower().split(\" \")).value_counts()[:10]"
   ]
  },
  {
   "cell_type": "code",
   "execution_count": 40,
   "metadata": {},
   "outputs": [
    {
     "data": {
      "text/plain": [
       "<matplotlib.axes._subplots.AxesSubplot at 0x1960baad9d0>"
      ]
     },
     "execution_count": 40,
     "metadata": {},
     "output_type": "execute_result"
    },
    {
     "data": {
      "image/png": "[encoded data removed]",
      "text/plain": [
       "<Figure size 432x288 with 1 Axes>"
      ]
     },
     "metadata": {
      "needs_background": "light"
     },
     "output_type": "display_data"
    }
   ],
   "source": [
    "Female_Words.plot(kind='bar',stacked=True, colormap='cool')"
   ]
  },
  {
   "cell_type": "code",
   "execution_count": 41,
   "metadata": {},
   "outputs": [
    {
     "data": {
      "text/plain": [
       "<matplotlib.axes._subplots.AxesSubplot at 0x1960bba4400>"
      ]
     },
     "execution_count": 41,
     "metadata": {},
     "output_type": "execute_result"
    },
    {
     "data": {
      "image/png": "[encoded data removed]",
      "text/plain": [
       "<Figure size 432x288 with 1 Axes>"
      ]
     },
     "metadata": {
      "needs_background": "light"
     },
     "output_type": "display_data"
    }
   ],
   "source": [
    "Male_Words.plot(kind='bar',stacked=True, colormap='plasma')"
   ]
  },
  {
   "cell_type": "code",
   "execution_count": 42,
   "metadata": {},
   "outputs": [],
   "source": [
    "#removing unknown gender values from the dataset"
   ]
  },
  {
   "cell_type": "code",
   "execution_count": 43,
   "metadata": {},
   "outputs": [
    {
     "data": {
      "text/plain": [
       "female     6700\n",
       "male       6194\n",
       "brand      5942\n",
       "unknown    1117\n",
       "Name: gender, dtype: int64"
      ]
     },
     "execution_count": 43,
     "metadata": {},
     "output_type": "execute_result"
    }
   ],
   "source": [
    "data['gender'].value_counts()"
   ]
  },
  {
   "cell_type": "code",
   "execution_count": 44,
   "metadata": {},
   "outputs": [
    {
     "data": {
      "text/plain": [
       "female    6700\n",
       "male      6194\n",
       "brand     5942\n",
       "Name: gender, dtype: int64"
      ]
     },
     "execution_count": 44,
     "metadata": {},
     "output_type": "execute_result"
    }
   ],
   "source": [
    "drop_items_idx = data[data['gender'] == 'unknown'].index        #dropping data where the gender is unknown\n",
    "data.drop (index = drop_items_idx, inplace = True)\n",
    "data['gender'].value_counts()"
   ]
  },
  {
   "cell_type": "code",
   "execution_count": 45,
   "metadata": {},
   "outputs": [
    {
     "name": "stdout",
     "output_type": "stream",
     "text": [
      "profile_yn information:\n",
      " yes    18836\n",
      "no        97\n",
      "Name: profile_yn, dtype: int64\n"
     ]
    },
    {
     "data": {
      "text/plain": [
       "109      NaN\n",
       "137      NaN\n",
       "496      NaN\n",
       "582      NaN\n",
       "679      NaN\n",
       "        ... \n",
       "18524    NaN\n",
       "18700    NaN\n",
       "18840    NaN\n",
       "19773    NaN\n",
       "19842    NaN\n",
       "Name: gender, Length: 97, dtype: object"
      ]
     },
     "execution_count": 45,
     "metadata": {},
     "output_type": "execute_result"
    }
   ],
   "source": [
    "print ('profile_yn information:\\n',data['profile_yn'].value_counts())    #printing profile(y/n) information\n",
    "data[data['profile_yn'] == 'no']['gender']"
   ]
  },
  {
   "cell_type": "code",
   "execution_count": 46,
   "metadata": {},
   "outputs": [
    {
     "name": "stdout",
     "output_type": "stream",
     "text": [
      "yes    18836\n",
      "Name: profile_yn, dtype: int64\n"
     ]
    }
   ],
   "source": [
    "drop_items_idx = data[data['profile_yn'] == 'no'].index  #dropping columns\n",
    "data.drop (index = drop_items_idx, inplace = True)\n",
    "print (data['profile_yn'].value_counts())\n",
    "data.drop (columns = ['profile_yn','profile_yn:confidence','profile_yn_gold'], inplace = True)"
   ]
  },
  {
   "cell_type": "code",
   "execution_count": 47,
   "metadata": {},
   "outputs": [
    {
     "name": "stdout",
     "output_type": "stream",
     "text": [
      "female    6700\n",
      "male      6194\n",
      "brand     5942\n",
      "Name: gender, dtype: int64\n",
      "---------------------------\n",
      "<class 'pandas.core.frame.DataFrame'>\n",
      "Int64Index: 18836 entries, 0 to 20049\n",
      "Data columns (total 15 columns):\n",
      " #   Column              Non-Null Count  Dtype  \n",
      "---  ------              --------------  -----  \n",
      " 0   _golden             18836 non-null  bool   \n",
      " 1   _unit_state         18836 non-null  object \n",
      " 2   _trusted_judgments  18836 non-null  int64  \n",
      " 3   gender              18836 non-null  object \n",
      " 4   gender:confidence   18836 non-null  float64\n",
      " 5   description         15522 non-null  object \n",
      " 6   fav_number          18836 non-null  int64  \n",
      " 7   gender_gold         50 non-null     object \n",
      " 8   link_color          18836 non-null  object \n",
      " 9   name                18836 non-null  object \n",
      " 10  retweet_count       18836 non-null  int64  \n",
      " 11  sidebar_color       18836 non-null  object \n",
      " 12  text                18836 non-null  object \n",
      " 13  Tweets              18836 non-null  object \n",
      " 14  Description         18836 non-null  object \n",
      "dtypes: bool(1), float64(1), int64(3), object(10)\n",
      "memory usage: 2.2+ MB\n"
     ]
    }
   ],
   "source": [
    "print (data['gender'].value_counts())\n",
    "print ('---------------------------')\n",
    "data.info()"
   ]
  },
  {
   "cell_type": "code",
   "execution_count": 48,
   "metadata": {},
   "outputs": [
    {
     "name": "stdout",
     "output_type": "stream",
     "text": [
      "Full data items:  (18836, 15)\n",
      "Data with label-confidence < 100%:  (5032, 15)\n"
     ]
    }
   ],
   "source": [
    "print ('Full data items: ', data.shape)#dropping data having gender confidence less than 1.\n",
    "print ('Data with label-confidence < 100%: ', data[data['gender:confidence'] < 1].shape)"
   ]
  },
  {
   "cell_type": "code",
   "execution_count": 49,
   "metadata": {},
   "outputs": [
    {
     "name": "stdout",
     "output_type": "stream",
     "text": [
      "1.0    13804\n",
      "Name: gender:confidence, dtype: int64\n"
     ]
    }
   ],
   "source": [
    "drop_items_idx = data[data['gender:confidence'] < 1].index\n",
    "data.drop (index = drop_items_idx, inplace = True)\n",
    "print (data['gender:confidence'].value_counts())\n",
    "data.drop (columns = ['gender:confidence'], inplace = True)"
   ]
  },
  {
   "cell_type": "code",
   "execution_count": 50,
   "metadata": {},
   "outputs": [
    {
     "name": "stdout",
     "output_type": "stream",
     "text": [
      "female    5367\n",
      "male      4653\n",
      "brand     3784\n",
      "Name: gender, dtype: int64\n",
      "---------------------------\n",
      "<class 'pandas.core.frame.DataFrame'>\n",
      "Int64Index: 13804 entries, 0 to 20049\n",
      "Data columns (total 10 columns):\n",
      " #   Column         Non-Null Count  Dtype \n",
      "---  ------         --------------  ----- \n",
      " 0   gender         13804 non-null  object\n",
      " 1   description    11773 non-null  object\n",
      " 2   fav_number     13804 non-null  int64 \n",
      " 3   link_color     13804 non-null  object\n",
      " 4   name           13804 non-null  object\n",
      " 5   retweet_count  13804 non-null  int64 \n",
      " 6   sidebar_color  13804 non-null  object\n",
      " 7   text           13804 non-null  object\n",
      " 8   Tweets         13804 non-null  object\n",
      " 9   Description    13804 non-null  object\n",
      "dtypes: int64(2), object(8)\n",
      "memory usage: 1.2+ MB\n"
     ]
    }
   ],
   "source": [
    "data.drop (columns = ['_golden','_unit_state','_trusted_judgments','gender_gold'], inplace = True)#dropping columns\n",
    "# Double check the data \n",
    "print (data['gender'].value_counts())\n",
    "print ('---------------------------')\n",
    "data.info()"
   ]
  },
  {
   "cell_type": "code",
   "execution_count": 51,
   "metadata": {},
   "outputs": [
    {
     "data": {
      "text/plain": [
       "[('the', 8370),\n",
       " ('and', 7964),\n",
       " ('to', 4196),\n",
       " ('I', 3229),\n",
       " ('a', 3064),\n",
       " ('of', 2741),\n",
       " ('in', 2270),\n",
       " ('you', 2173),\n",
       " ('for', 2157),\n",
       " ('The', 2018),\n",
       " ('is', 1878),\n",
       " ('on', 1621),\n",
       " ('my', 1362),\n",
       " ('it', 1205),\n",
       " ('', 1184),\n",
       " ('with', 1156),\n",
       " ('Weather', 1074),\n",
       " ('that', 1032),\n",
       " ('from', 1022),\n",
       " ('me', 1001)]"
      ]
     },
     "execution_count": 51,
     "metadata": {},
     "output_type": "execute_result"
    }
   ],
   "source": [
    "from collections import Counter #finding most common words used\n",
    "twit_vocab = Counter()\n",
    "for twit in data['text']:\n",
    "    for word in twit.split(' '):\n",
    "        twit_vocab[word] += 1\n",
    "        \n",
    "# desc_vocab = Counter()\n",
    "# for twit in data['description']:\n",
    "#     for word in twit.split(' '):\n",
    "#         desc_vocab[word] += 1\n",
    "        \n",
    "twit_vocab.most_common(20)"
   ]
  },
  {
   "cell_type": "code",
   "execution_count": 52,
   "metadata": {},
   "outputs": [
    {
     "data": {
      "text/plain": [
       "[('I', 3229),\n",
       " ('The', 2018),\n",
       " ('', 1184),\n",
       " ('Weather', 1074),\n",
       " ('-', 767),\n",
       " (\"I'm\", 651),\n",
       " ('like', 628),\n",
       " ('Get', 627),\n",
       " ('get', 570),\n",
       " ('Updates', 538),\n",
       " ('Channel.', 537),\n",
       " ('And', 487),\n",
       " ('one', 416),\n",
       " ('&amp;', 348),\n",
       " ('new', 343),\n",
       " ('love', 340),\n",
       " ('people', 315),\n",
       " ('time', 301),\n",
       " ('go', 290),\n",
       " ('know', 288)]"
      ]
     },
     "execution_count": 52,
     "metadata": {},
     "output_type": "execute_result"
    }
   ],
   "source": [
    "from nltk.corpus import stopwords\n",
    "stop = stopwords.words('english')\n",
    "\n",
    "twit_vocab_reduced = Counter()\n",
    "for w, c in twit_vocab.items():\n",
    "    if not w in stop:\n",
    "        twit_vocab_reduced[w]=c\n",
    "\n",
    "twit_vocab_reduced.most_common(20)"
   ]
  },
  {
   "cell_type": "code",
   "execution_count": 53,
   "metadata": {},
   "outputs": [
    {
     "name": "stdout",
     "output_type": "stream",
     "text": [
      "this twit is nice :)\n"
     ]
    }
   ],
   "source": [
    "#Removing trash\n",
    "import re\n",
    "\n",
    "def preprocessor(text):\n",
    "    # Remove HTML markup\n",
    "    text = re.sub('<[^>]*>', '', text)\n",
    "    # Save emoticons for later appending\n",
    "    emoticons = re.findall('(?::|;|=)(?:-)?(?:\\)|\\(|D|P)', text)\n",
    "    text = (re.sub('[\\W]+', ' ', text.lower()) + ' ' + ' '.join(emoticons).replace('-', ''))\n",
    "    return text\n",
    "print(preprocessor('This!!@ twit :) is <b>nice</b>'))"
   ]
  },
  {
   "cell_type": "code",
   "execution_count": 54,
   "metadata": {},
   "outputs": [
    {
     "name": "stdout",
     "output_type": "stream",
     "text": [
      "['Hi', 'there,', 'I', 'am', 'loving', 'this,', 'like', 'with', 'a', 'lot', 'of', 'love']\n",
      "['Hi', 'there,', 'I', 'am', 'love', 'this,', 'like', 'with', 'a', 'lot', 'of', 'love']\n"
     ]
    }
   ],
   "source": [
    "from nltk.stem import PorterStemmer\n",
    "porter = PorterStemmer()\n",
    "def tokenizer(text):\n",
    "    return text.split()\n",
    "def tokenizer_porter(text):#using porter stemmer for stemming words#\n",
    "    return [porter.stem(word) for word in text.split()]\n",
    "\n",
    "print(tokenizer('Hi there, I am loving this, like with a lot of love'))\n",
    "print(tokenizer_porter('Hi there, I am loving this, like with a lot of love'))"
   ]
  },
  {
   "cell_type": "code",
   "execution_count": 55,
   "metadata": {},
   "outputs": [
    {
     "data": {
      "text/plain": [
       "<matplotlib.axes._subplots.AxesSubplot at 0x1960dd7bd90>"
      ]
     },
     "execution_count": 55,
     "metadata": {},
     "output_type": "execute_result"
    },
    {
     "data": {
      "image/png": "[encoded data removed]",
      "text/plain": [
       "<Figure size 432x288 with 1 Axes>"
      ]
     },
     "metadata": {
      "needs_background": "light"
     },
     "output_type": "display_data"
    }
   ],
   "source": [
    "#countplot to visualize the amount of each label\n",
    "sns.countplot(data['gender'],label=\"Gender\")"
   ]
  },
  {
   "cell_type": "code",
   "execution_count": 56,
   "metadata": {},
   "outputs": [
    {
     "data": {
      "text/plain": [
       "<matplotlib.axes._subplots.AxesSubplot at 0x1960c83ec40>"
      ]
     },
     "execution_count": 56,
     "metadata": {},
     "output_type": "execute_result"
    },
    {
     "data": {
      "image/png": "[encoded data removed]",
      "text/plain": [
       "<Figure size 432x288 with 1 Axes>"
      ]
     },
     "metadata": {
      "needs_background": "light"
     },
     "output_type": "display_data"
    }
   ],
   "source": [
    "#bar plot to visualize the amount of favourites and retweet\n",
    "sns.barplot (x = 'gender', y = 'fav_number',data = data)"
   ]
  },
  {
   "cell_type": "code",
   "execution_count": 57,
   "metadata": {},
   "outputs": [
    {
     "data": {
      "text/plain": [
       "<matplotlib.axes._subplots.AxesSubplot at 0x1960cdf4820>"
      ]
     },
     "execution_count": 57,
     "metadata": {},
     "output_type": "execute_result"
    },
    {
     "data": {
      "image/png": "[encoded data removed]",
      "text/plain": [
       "<Figure size 432x288 with 1 Axes>"
      ]
     },
     "metadata": {
      "needs_background": "light"
     },
     "output_type": "display_data"
    }
   ],
   "source": [
    "sns.barplot (x = 'gender', y = 'retweet_count',data = data)"
   ]
  },
  {
   "cell_type": "markdown",
   "metadata": {},
   "source": [
    "# training with tweet text only"
   ]
  },
  {
   "cell_type": "code",
   "execution_count": 58,
   "metadata": {},
   "outputs": [
    {
     "data": {
      "text/plain": [
       "19087    @rvpisarapist my players literally give 110% a...\n",
       "11212    Backers of the atrium lobby considered joining...\n",
       "14799    I was supposed to receive my @SpiritHalloween ...\n",
       "6846     Depression comes when you least expect it, lik...\n",
       "1226     Grimes Throws a Fun, Bloody Party in \"Flesh Wi...\n",
       "Name: text, dtype: object"
      ]
     },
     "execution_count": 58,
     "metadata": {},
     "output_type": "execute_result"
    }
   ],
   "source": [
    "\n",
    "from sklearn.preprocessing import LabelEncoder\n",
    "encoder = LabelEncoder()\n",
    "y = encoder.fit_transform(data['gender'])\n",
    "X = data['text']\n",
    "X_train, X_test, y_train, y_test = train_test_split(X, y, test_size=0.3, random_state=0, stratify=y)\n",
    "X_train.head()"
   ]
  },
  {
   "cell_type": "code",
   "execution_count": 59,
   "metadata": {},
   "outputs": [
    {
     "name": "stdout",
     "output_type": "stream",
     "text": [
      "Accuracy: 0.6001931434089812\n"
     ]
    }
   ],
   "source": [
    "#Logistic regression\n",
    "from sklearn.linear_model import LogisticRegression\n",
    "tfidf = TfidfVectorizer(lowercase=False,\n",
    "                        tokenizer=tokenizer_porter,\n",
    "                        preprocessor=preprocessor)\n",
    "clf = Pipeline([('vect', tfidf),\n",
    "                ('clf', LogisticRegression(multi_class='ovr', random_state=0))])\n",
    "clf.fit(X_train, y_train)\n",
    "predictions = clf.predict(X_test)\n",
    "print('Accuracy:',accuracy_score(y_test,predictions))\n"
   ]
  },
  {
   "cell_type": "code",
   "execution_count": null,
   "metadata": {},
   "outputs": [],
   "source": [
    "#Random forest\n",
    "from sklearn.ensemble import RandomForestClassifier\n",
    "n = range (1,100,10) #step 10\n",
    "results = []\n",
    "for i in n:\n",
    "    clf = Pipeline([('vect', tfidf),\n",
    "                ('clf', RandomForestClassifier(n_estimators = i, random_state=0))])\n",
    "    clf.fit(X_train, y_train)\n",
    "    predictions = clf.predict(X_test)\n",
    "    results.append(accuracy_score(y_test, predictions))\n",
    "plt.grid()\n",
    "plt.scatter(n, results)"
   ]
  },
  {
   "cell_type": "code",
   "execution_count": null,
   "metadata": {},
   "outputs": [],
   "source": [
    "tfidf = TfidfVectorizer(lowercase=False,\n",
    "                        tokenizer=tokenizer_porter,\n",
    "                        preprocessor=preprocessor)\n",
    "clf = Pipeline([('vect', tfidf),\n",
    "                ('clf', RandomForestClassifier(n_estimators = 40, random_state=0))])\n",
    "clf.fit(X_train, y_train)\n",
    "predictions = clf.predict(X_test)\n",
    "print('Accuracy:',accuracy_score(y_test,predictions))"
   ]
  },
  {
   "cell_type": "code",
   "execution_count": null,
   "metadata": {},
   "outputs": [],
   "source": [
    "#SVM\n",
    "from sklearn.svm import SVC\n",
    "tfidf = TfidfVectorizer(lowercase=False,\n",
    "                        tokenizer=tokenizer_porter,\n",
    "                        preprocessor=preprocessor)\n",
    "clf = Pipeline([('vect', tfidf),\n",
    "                ('clf', SVC(kernel = 'linear'))])\n",
    "clf.fit(X_train, y_train)\n",
    "predictions = clf.predict(X_test)\n",
    "print('Accuracy:',accuracy_score(y_test,predictions))"
   ]
  },
  {
   "cell_type": "markdown",
   "metadata": {},
   "source": [
    "# Adding description text"
   ]
  },
  {
   "cell_type": "code",
   "execution_count": null,
   "metadata": {},
   "outputs": [],
   "source": [
    "data.head(3)"
   ]
  },
  {
   "cell_type": "code",
   "execution_count": null,
   "metadata": {},
   "outputs": [],
   "source": [
    "#Fill NaN with empty string\n",
    "data.fillna(\"\", inplace = True)\n",
    "\n",
    "# Concatenate text with description, add white space between. \n",
    "# By using Series helper functions Series.str()\n",
    "data['text_description'] = data['text'].str.cat(data['description'], sep=' ')\n",
    "\n",
    "data['text_description'].isnull().value_counts()"
   ]
  },
  {
   "cell_type": "code",
   "execution_count": null,
   "metadata": {},
   "outputs": [],
   "source": [
    "X = data['text_description']\n",
    "X_train, X_test, y_train, y_test = train_test_split(X, y, test_size=0.3, random_state=0, stratify=y)\n",
    "X_train.head()\n",
    "X_train.isnull().values.any()"
   ]
  },
  {
   "cell_type": "code",
   "execution_count": null,
   "metadata": {},
   "outputs": [],
   "source": [
    "#Logistic \n",
    "from sklearn.linear_model import LogisticRegression\n",
    "tfidf = TfidfVectorizer(lowercase=False,\n",
    "                        tokenizer=tokenizer_porter,\n",
    "                        preprocessor=preprocessor)\n",
    "clf = Pipeline([('vect', tfidf),\n",
    "                ('clf', LogisticRegression(multi_class='ovr', random_state=0))])\n",
    "clf.fit(X_train, y_train)\n",
    "predictions = clf.predict(X_test)\n",
    "print('Accuracy:',accuracy_score(y_test,predictions))"
   ]
  },
  {
   "cell_type": "code",
   "execution_count": null,
   "metadata": {},
   "outputs": [],
   "source": [
    "#Random forest\n",
    "n = range (1,120,10) \n",
    "results = []\n",
    "for i in n:\n",
    "    clf = Pipeline([('vect', tfidf),\n",
    "                ('clf', RandomForestClassifier(n_estimators = i, random_state=0))])\n",
    "    clf.fit(X_train, y_train)\n",
    "    predictions = clf.predict(X_test)\n",
    "    results.append(accuracy_score(y_test, predictions))\n",
    "plt.grid()    \n",
    "plt.scatter(n, results)"
   ]
  },
  {
   "cell_type": "code",
   "execution_count": null,
   "metadata": {},
   "outputs": [],
   "source": [
    "from sklearn.ensemble import RandomForestClassifier\n",
    "\n",
    "tfidf = TfidfVectorizer(lowercase=False,\n",
    "                        tokenizer=tokenizer_porter,\n",
    "                        preprocessor=preprocessor)\n",
    "clf = Pipeline([('vect', tfidf),\n",
    "                ('clf', RandomForestClassifier(n_estimators = 80, random_state=0))])\n",
    "\n",
    "clf.fit(X_train, y_train)\n",
    "\n",
    "predictions = clf.predict(X_test)\n",
    "print('Accuracy:',accuracy_score(y_test,predictions))"
   ]
  },
  {
   "cell_type": "code",
   "execution_count": null,
   "metadata": {},
   "outputs": [],
   "source": [
    "#SVM\n",
    "from sklearn.svm import SVC\n",
    "tfidf = TfidfVectorizer(lowercase=False,\n",
    "                        tokenizer=tokenizer_porter,\n",
    "                        preprocessor=preprocessor)\n",
    "clf = Pipeline([('vect', tfidf),\n",
    "                ('clf', SVC(kernel = 'linear'))])\n",
    "clf.fit(X_train, y_train)\n",
    "predictions = clf.predict(X_test)\n",
    "print('Accuracy:',accuracy_score(y_test,predictions))"
   ]
  },
  {
   "cell_type": "raw",
   "metadata": {},
   "source": [
    "Experimental Results\n",
    "Accuracy:\n",
    "\n",
    "Logistic Regression: 68.20%\n",
    "Random Forest: 64.38%\n",
    "SVM: 68.68%\n",
    "Winner: SVM model"
   ]
  },
  {
   "cell_type": "markdown",
   "metadata": {},
   "source": [
    "# Ensemble technique: take all 3 Models"
   ]
  },
  {
   "cell_type": "code",
   "execution_count": null,
   "metadata": {},
   "outputs": [],
   "source": [
    "from sklearn.ensemble import VotingClassifier\n",
    "clf1 = LogisticRegression(multi_class='ovr', random_state=0)\n",
    "clf2 = RandomForestClassifier(n_estimators = 80, random_state=0)\n",
    "clf3 = SVC(kernel = 'linear',probability = True, random_state=0)\n",
    "ensemble_clf = VotingClassifier(estimators=[\n",
    "        ('lr', clf1), ('rf', clf2), ('svm', clf3)], voting='soft')\n",
    "clf = Pipeline([('vect', tfidf),\n",
    "                ('clf', ensemble_clf)])\n",
    "clf.fit(X_train, y_train)\n",
    "predictions = clf.predict(X_test)\n",
    "print('Accuracy:',accuracy_score(y_test,predictions))"
   ]
  },
  {
   "cell_type": "code",
   "execution_count": null,
   "metadata": {},
   "outputs": [],
   "source": []
  },
  {
   "cell_type": "code",
   "execution_count": null,
   "metadata": {},
   "outputs": [],
   "source": []
  },
  {
   "cell_type": "code",
   "execution_count": null,
   "metadata": {},
   "outputs": [],
   "source": []
  },
  {
   "cell_type": "code",
   "execution_count": null,
   "metadata": {},
   "outputs": [],
   "source": []
  },
  {
   "cell_type": "code",
   "execution_count": null,
   "metadata": {},
   "outputs": [],
   "source": []
  }
 ],
 "metadata": {
  "kernelspec": {
   "display_name": "Python 3",
   "language": "python",
   "name": "python3"
  },
  "language_info": {
   "codemirror_mode": {
    "name": "ipython",
    "version": 3
   },
   "file_extension": ".py",
   "mimetype": "text/x-python",
   "name": "python",
   "nbconvert_exporter": "python",
   "pygments_lexer": "ipython3",
   "version": "3.8.3"
  }
 },
 "nbformat": 4,
 "nbformat_minor": 4
}
